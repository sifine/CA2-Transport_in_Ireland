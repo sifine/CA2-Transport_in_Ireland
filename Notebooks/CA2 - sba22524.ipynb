{
 "cells": [
  {
   "cell_type": "markdown",
   "id": "fc48241c",
   "metadata": {},
   "source": [
    "https://worldroadstatistics.org/wrs-data/data/"
   ]
  },
  {
   "cell_type": "markdown",
   "id": "b86214a4",
   "metadata": {},
   "source": [
    "Area of analysis: is Ireland a country heavely dependent on public transportation or not?"
   ]
  },
  {
   "cell_type": "markdown",
   "id": "8269d25f",
   "metadata": {},
   "source": [
    "# Data loading"
   ]
  },
  {
   "cell_type": "code",
   "execution_count": 61,
   "id": "17f2160b",
   "metadata": {},
   "outputs": [],
   "source": [
    "import pandas as pd\n",
    "\n",
    "df_2021 = pd.read_csv(\"../Data/total-four-wheeled-traffic-(by-vehicle-type)---2021.csv\")\n",
    "df_2020 = pd.read_csv(\"../Data/total-four-wheeled-traffic-(by-vehicle-type)---2020.csv\")\n",
    "df_2019 = pd.read_csv(\"../Data/total-four-wheeled-traffic-(by-vehicle-type)---2019.csv\")\n",
    "df_2018 = pd.read_csv(\"../Data/total-four-wheeled-traffic-(by-vehicle-type)---2018.csv\")\n",
    "df_2017 = pd.read_csv(\"../Data/total-four-wheeled-traffic-(by-vehicle-type)---2017.csv\")\n",
    "df_2016 = pd.read_csv(\"../Data/total-four-wheeled-traffic-(by-vehicle-type)---2016.csv\")"
   ]
  },
  {
   "cell_type": "code",
   "execution_count": 62,
   "id": "3b5059ea",
   "metadata": {},
   "outputs": [],
   "source": [
    "df_2021[\"Year\"] = 2021 \n",
    "df_2020[\"Year\"] = 2020\n",
    "df_2019[\"Year\"] = 2019\n",
    "df_2018[\"Year\"] = 2018\n",
    "df_2017[\"Year\"] = 2017\n",
    "df_2016[\"Year\"] = 2016"
   ]
  },
  {
   "cell_type": "code",
   "execution_count": 63,
   "id": "65317a14",
   "metadata": {},
   "outputs": [],
   "source": [
    "df = pd.concat([df_2021,df_2020,df_2019,df_2018,df_2017,df_2016])"
   ]
  },
  {
   "cell_type": "markdown",
   "id": "863512ba",
   "metadata": {},
   "source": [
    "# Descriptive Statistics "
   ]
  },
  {
   "cell_type": "code",
   "execution_count": 64,
   "id": "049de9c6",
   "metadata": {},
   "outputs": [
    {
     "data": {
      "text/html": [
       "<div>\n",
       "<style scoped>\n",
       "    .dataframe tbody tr th:only-of-type {\n",
       "        vertical-align: middle;\n",
       "    }\n",
       "\n",
       "    .dataframe tbody tr th {\n",
       "        vertical-align: top;\n",
       "    }\n",
       "\n",
       "    .dataframe thead th {\n",
       "        text-align: right;\n",
       "    }\n",
       "</style>\n",
       "<table border=\"1\" class=\"dataframe\">\n",
       "  <thead>\n",
       "    <tr style=\"text-align: right;\">\n",
       "      <th></th>\n",
       "      <th>Category</th>\n",
       "      <th>Passenger Car Traffic</th>\n",
       "      <th>Bus and Motor Coach Traffic</th>\n",
       "      <th>Total Van, Pickup, Lorry and Road Tractor Traffic</th>\n",
       "      <th>Total four wheeled Traffic</th>\n",
       "      <th>Year</th>\n",
       "    </tr>\n",
       "  </thead>\n",
       "  <tbody>\n",
       "    <tr>\n",
       "      <th>0</th>\n",
       "      <td>Austria</td>\n",
       "      <td>60721.0</td>\n",
       "      <td>390.0</td>\n",
       "      <td>13810.0</td>\n",
       "      <td>74921.0</td>\n",
       "      <td>2021</td>\n",
       "    </tr>\n",
       "    <tr>\n",
       "      <th>1</th>\n",
       "      <td>Belarus</td>\n",
       "      <td>244.0</td>\n",
       "      <td>324.0</td>\n",
       "      <td>935.0</td>\n",
       "      <td>1503.0</td>\n",
       "      <td>2021</td>\n",
       "    </tr>\n",
       "    <tr>\n",
       "      <th>2</th>\n",
       "      <td>Bulgaria</td>\n",
       "      <td>NaN</td>\n",
       "      <td>353.0</td>\n",
       "      <td>2757.0</td>\n",
       "      <td>3110.0</td>\n",
       "      <td>2021</td>\n",
       "    </tr>\n",
       "    <tr>\n",
       "      <th>3</th>\n",
       "      <td>Croatia</td>\n",
       "      <td>19780.0</td>\n",
       "      <td>240.0</td>\n",
       "      <td>3170.0</td>\n",
       "      <td>23190.0</td>\n",
       "      <td>2021</td>\n",
       "    </tr>\n",
       "    <tr>\n",
       "      <th>4</th>\n",
       "      <td>Denmark</td>\n",
       "      <td>40313.0</td>\n",
       "      <td>624.0</td>\n",
       "      <td>9257.0</td>\n",
       "      <td>50194.0</td>\n",
       "      <td>2021</td>\n",
       "    </tr>\n",
       "  </tbody>\n",
       "</table>\n",
       "</div>"
      ],
      "text/plain": [
       "   Category  Passenger Car Traffic  Bus and Motor Coach Traffic  \\\n",
       "0   Austria                60721.0                        390.0   \n",
       "1   Belarus                  244.0                        324.0   \n",
       "2  Bulgaria                    NaN                        353.0   \n",
       "3   Croatia                19780.0                        240.0   \n",
       "4   Denmark                40313.0                        624.0   \n",
       "\n",
       "   Total Van, Pickup, Lorry and Road Tractor Traffic  \\\n",
       "0                                            13810.0   \n",
       "1                                              935.0   \n",
       "2                                             2757.0   \n",
       "3                                             3170.0   \n",
       "4                                             9257.0   \n",
       "\n",
       "   Total four wheeled Traffic  Year  \n",
       "0                     74921.0  2021  \n",
       "1                      1503.0  2021  \n",
       "2                      3110.0  2021  \n",
       "3                     23190.0  2021  \n",
       "4                     50194.0  2021  "
      ]
     },
     "execution_count": 64,
     "metadata": {},
     "output_type": "execute_result"
    }
   ],
   "source": [
    "# Display the first 5 rows of df\n",
    "df.head()"
   ]
  },
  {
   "cell_type": "code",
   "execution_count": 65,
   "id": "f1f8b509",
   "metadata": {},
   "outputs": [
    {
     "data": {
      "text/plain": [
       "(188, 6)"
      ]
     },
     "execution_count": 65,
     "metadata": {},
     "output_type": "execute_result"
    }
   ],
   "source": [
    "# Dysplay the shape of our dataset\n",
    "df.shape"
   ]
  },
  {
   "cell_type": "code",
   "execution_count": 66,
   "id": "7b7188fc",
   "metadata": {},
   "outputs": [
    {
     "name": "stdout",
     "output_type": "stream",
     "text": [
      "<class 'pandas.core.frame.DataFrame'>\n",
      "Int64Index: 188 entries, 0 to 30\n",
      "Data columns (total 6 columns):\n",
      " #   Column                                             Non-Null Count  Dtype  \n",
      "---  ------                                             --------------  -----  \n",
      " 0   Category                                           188 non-null    object \n",
      " 1   Passenger Car Traffic                              152 non-null    float64\n",
      " 2   Bus and Motor Coach Traffic                        176 non-null    float64\n",
      " 3   Total Van, Pickup, Lorry and Road Tractor Traffic  175 non-null    float64\n",
      " 4   Total four wheeled Traffic                         158 non-null    float64\n",
      " 5   Year                                               188 non-null    int64  \n",
      "dtypes: float64(4), int64(1), object(1)\n",
      "memory usage: 10.3+ KB\n"
     ]
    }
   ],
   "source": [
    "# Display data types\n",
    "df.info()"
   ]
  },
  {
   "cell_type": "code",
   "execution_count": 24,
   "id": "a2a65c80",
   "metadata": {},
   "outputs": [
    {
     "data": {
      "text/plain": [
       "Category                                              0\n",
       "Passenger Car Traffic                                36\n",
       "Bus and Motor Coach Traffic                          12\n",
       "Total Van, Pickup, Lorry and Road Tractor Traffic    13\n",
       "Total four wheeled Traffic                           30\n",
       "Year                                                  0\n",
       "dtype: int64"
      ]
     },
     "execution_count": 24,
     "metadata": {},
     "output_type": "execute_result"
    }
   ],
   "source": [
    "# Display sum of null values for each column\n",
    "df.isnull().sum()"
   ]
  },
  {
   "cell_type": "code",
   "execution_count": 29,
   "id": "3a755ff3",
   "metadata": {},
   "outputs": [
    {
     "data": {
      "text/plain": [
       "array(['Austria', 'Belarus', 'Bulgaria', 'Croatia', 'Denmark', 'Estonia',\n",
       "       'Finland', 'France', 'Germany', 'Hungary', 'Ireland', 'Latvia',\n",
       "       'Lithuania', 'Malta', 'Moldova', 'Monaco', 'Montenegro',\n",
       "       'Netherlands', 'North Macedonia', 'Norway', 'Poland', 'Portugal',\n",
       "       'Romania', 'Russian Federation', 'Serbia', 'Slovak Republic',\n",
       "       'Slovenia', 'Spain', 'Sweden', 'Switzerland', 'United Kingdom',\n",
       "       'Ukraine', 'Belgium'], dtype=object)"
      ]
     },
     "execution_count": 29,
     "metadata": {},
     "output_type": "execute_result"
    }
   ],
   "source": [
    "# Printing of unique values per column\n",
    "df.Category.unique()"
   ]
  },
  {
   "cell_type": "code",
   "execution_count": 38,
   "id": "eb695ecf",
   "metadata": {},
   "outputs": [
    {
     "data": {
      "text/html": [
       "<div>\n",
       "<style scoped>\n",
       "    .dataframe tbody tr th:only-of-type {\n",
       "        vertical-align: middle;\n",
       "    }\n",
       "\n",
       "    .dataframe tbody tr th {\n",
       "        vertical-align: top;\n",
       "    }\n",
       "\n",
       "    .dataframe thead th {\n",
       "        text-align: right;\n",
       "    }\n",
       "</style>\n",
       "<table border=\"1\" class=\"dataframe\">\n",
       "  <thead>\n",
       "    <tr style=\"text-align: right;\">\n",
       "      <th></th>\n",
       "      <th>Passenger Car Traffic</th>\n",
       "      <th>Bus and Motor Coach Traffic</th>\n",
       "      <th>Total Van, Pickup, Lorry and Road Tractor Traffic</th>\n",
       "      <th>Total four wheeled Traffic</th>\n",
       "      <th>Year</th>\n",
       "    </tr>\n",
       "  </thead>\n",
       "  <tbody>\n",
       "    <tr>\n",
       "      <th>count</th>\n",
       "      <td>25.000000</td>\n",
       "      <td>29.000000</td>\n",
       "      <td>28.000000</td>\n",
       "      <td>26.000000</td>\n",
       "      <td>31.0</td>\n",
       "    </tr>\n",
       "    <tr>\n",
       "      <th>mean</th>\n",
       "      <td>89225.760000</td>\n",
       "      <td>726.413793</td>\n",
       "      <td>19942.500000</td>\n",
       "      <td>107020.653846</td>\n",
       "      <td>2021.0</td>\n",
       "    </tr>\n",
       "    <tr>\n",
       "      <th>std</th>\n",
       "      <td>149398.238108</td>\n",
       "      <td>1014.271009</td>\n",
       "      <td>32740.725805</td>\n",
       "      <td>180480.177848</td>\n",
       "      <td>0.0</td>\n",
       "    </tr>\n",
       "    <tr>\n",
       "      <th>min</th>\n",
       "      <td>55.000000</td>\n",
       "      <td>3.000000</td>\n",
       "      <td>4.000000</td>\n",
       "      <td>62.000000</td>\n",
       "      <td>2021.0</td>\n",
       "    </tr>\n",
       "    <tr>\n",
       "      <th>25%</th>\n",
       "      <td>9393.000000</td>\n",
       "      <td>138.000000</td>\n",
       "      <td>2738.000000</td>\n",
       "      <td>11584.750000</td>\n",
       "      <td>2021.0</td>\n",
       "    </tr>\n",
       "    <tr>\n",
       "      <th>50%</th>\n",
       "      <td>32284.000000</td>\n",
       "      <td>324.000000</td>\n",
       "      <td>8275.000000</td>\n",
       "      <td>43019.500000</td>\n",
       "      <td>2021.0</td>\n",
       "    </tr>\n",
       "    <tr>\n",
       "      <th>75%</th>\n",
       "      <td>63913.000000</td>\n",
       "      <td>665.000000</td>\n",
       "      <td>16833.750000</td>\n",
       "      <td>78344.750000</td>\n",
       "      <td>2021.0</td>\n",
       "    </tr>\n",
       "    <tr>\n",
       "      <th>max</th>\n",
       "      <td>582400.000000</td>\n",
       "      <td>3862.000000</td>\n",
       "      <td>116000.000000</td>\n",
       "      <td>677800.000000</td>\n",
       "      <td>2021.0</td>\n",
       "    </tr>\n",
       "  </tbody>\n",
       "</table>\n",
       "</div>"
      ],
      "text/plain": [
       "       Passenger Car Traffic  Bus and Motor Coach Traffic  \\\n",
       "count              25.000000                    29.000000   \n",
       "mean            89225.760000                   726.413793   \n",
       "std            149398.238108                  1014.271009   \n",
       "min                55.000000                     3.000000   \n",
       "25%              9393.000000                   138.000000   \n",
       "50%             32284.000000                   324.000000   \n",
       "75%             63913.000000                   665.000000   \n",
       "max            582400.000000                  3862.000000   \n",
       "\n",
       "       Total Van, Pickup, Lorry and Road Tractor Traffic  \\\n",
       "count                                          28.000000   \n",
       "mean                                        19942.500000   \n",
       "std                                         32740.725805   \n",
       "min                                             4.000000   \n",
       "25%                                          2738.000000   \n",
       "50%                                          8275.000000   \n",
       "75%                                         16833.750000   \n",
       "max                                        116000.000000   \n",
       "\n",
       "       Total four wheeled Traffic    Year  \n",
       "count                   26.000000    31.0  \n",
       "mean                107020.653846  2021.0  \n",
       "std                 180480.177848     0.0  \n",
       "min                     62.000000  2021.0  \n",
       "25%                  11584.750000  2021.0  \n",
       "50%                  43019.500000  2021.0  \n",
       "75%                  78344.750000  2021.0  \n",
       "max                 677800.000000  2021.0  "
      ]
     },
     "execution_count": 38,
     "metadata": {},
     "output_type": "execute_result"
    }
   ],
   "source": [
    "# Display data distribution\n",
    "df.loc[df[\"Year\"]==2021].describe()"
   ]
  },
  {
   "cell_type": "code",
   "execution_count": 93,
   "id": "f6ca899c",
   "metadata": {},
   "outputs": [],
   "source": [
    "df_bus = df[[\"Year\", \"Category\", \"Bus and Motor Coach Traffic\", \"Total four wheeled Traffic\"]]"
   ]
  },
  {
   "cell_type": "code",
   "execution_count": 94,
   "id": "b93ec2db",
   "metadata": {},
   "outputs": [],
   "source": [
    "df_bus_ireland = df_bus.loc[df_bus[\"Category\"]==\"Ireland\"]"
   ]
  },
  {
   "cell_type": "code",
   "execution_count": 95,
   "id": "6ae3c800",
   "metadata": {},
   "outputs": [
    {
     "data": {
      "text/html": [
       "<div>\n",
       "<style scoped>\n",
       "    .dataframe tbody tr th:only-of-type {\n",
       "        vertical-align: middle;\n",
       "    }\n",
       "\n",
       "    .dataframe tbody tr th {\n",
       "        vertical-align: top;\n",
       "    }\n",
       "\n",
       "    .dataframe thead th {\n",
       "        text-align: right;\n",
       "    }\n",
       "</style>\n",
       "<table border=\"1\" class=\"dataframe\">\n",
       "  <thead>\n",
       "    <tr style=\"text-align: right;\">\n",
       "      <th></th>\n",
       "      <th>Year</th>\n",
       "      <th>Bus and Motor Coach Traffic</th>\n",
       "      <th>Total four wheeled Traffic</th>\n",
       "    </tr>\n",
       "  </thead>\n",
       "  <tbody>\n",
       "    <tr>\n",
       "      <th>count</th>\n",
       "      <td>6.000000</td>\n",
       "      <td>6.000000</td>\n",
       "      <td>6.000000</td>\n",
       "    </tr>\n",
       "    <tr>\n",
       "      <th>mean</th>\n",
       "      <td>2018.500000</td>\n",
       "      <td>333.166667</td>\n",
       "      <td>43892.333333</td>\n",
       "    </tr>\n",
       "    <tr>\n",
       "      <th>std</th>\n",
       "      <td>1.870829</td>\n",
       "      <td>57.031278</td>\n",
       "      <td>4778.960375</td>\n",
       "    </tr>\n",
       "    <tr>\n",
       "      <th>min</th>\n",
       "      <td>2016.000000</td>\n",
       "      <td>260.000000</td>\n",
       "      <td>35435.000000</td>\n",
       "    </tr>\n",
       "    <tr>\n",
       "      <th>25%</th>\n",
       "      <td>2017.250000</td>\n",
       "      <td>285.500000</td>\n",
       "      <td>42218.750000</td>\n",
       "    </tr>\n",
       "    <tr>\n",
       "      <th>50%</th>\n",
       "      <td>2018.500000</td>\n",
       "      <td>345.000000</td>\n",
       "      <td>46279.000000</td>\n",
       "    </tr>\n",
       "    <tr>\n",
       "      <th>75%</th>\n",
       "      <td>2019.750000</td>\n",
       "      <td>379.750000</td>\n",
       "      <td>46676.250000</td>\n",
       "    </tr>\n",
       "    <tr>\n",
       "      <th>max</th>\n",
       "      <td>2021.000000</td>\n",
       "      <td>392.000000</td>\n",
       "      <td>47687.000000</td>\n",
       "    </tr>\n",
       "  </tbody>\n",
       "</table>\n",
       "</div>"
      ],
      "text/plain": [
       "              Year  Bus and Motor Coach Traffic  Total four wheeled Traffic\n",
       "count     6.000000                     6.000000                    6.000000\n",
       "mean   2018.500000                   333.166667                43892.333333\n",
       "std       1.870829                    57.031278                 4778.960375\n",
       "min    2016.000000                   260.000000                35435.000000\n",
       "25%    2017.250000                   285.500000                42218.750000\n",
       "50%    2018.500000                   345.000000                46279.000000\n",
       "75%    2019.750000                   379.750000                46676.250000\n",
       "max    2021.000000                   392.000000                47687.000000"
      ]
     },
     "execution_count": 95,
     "metadata": {},
     "output_type": "execute_result"
    }
   ],
   "source": [
    "df_bus_ireland.describe()"
   ]
  },
  {
   "cell_type": "markdown",
   "id": "9dd24905",
   "metadata": {},
   "source": [
    "# Inferential Statistics on Ireland"
   ]
  },
  {
   "cell_type": "code",
   "execution_count": 96,
   "id": "e889efa6",
   "metadata": {},
   "outputs": [],
   "source": [
    "import pandas as pd\n",
    "import numpy as np\n",
    "from scipy import stats\n",
    "import statsmodels.api as sm"
   ]
  },
  {
   "cell_type": "code",
   "execution_count": 97,
   "id": "8eed0660",
   "metadata": {},
   "outputs": [
    {
     "name": "stdout",
     "output_type": "stream",
     "text": [
      "95% Confidence Interval for Bus Car Traffic Mean: (231.12663811756266, 435.2066952157707)\n"
     ]
    }
   ],
   "source": [
    "# We want to find a confidence interval for the mean of \"Bus and Motor Coach Traffic\" in Ireland\n",
    "bus_traffic_data_dublin = df_bus_ireland['Bus and Motor Coach Traffic'].dropna()  # Remove missing values\n",
    "\n",
    "# Calculate the confidence interval\n",
    "confidence_interval = stats.norm.interval(0.95, loc=np.mean(bus_traffic_data_dublin), scale=np.std(bus_traffic_data_dublin))\n",
    "\n",
    "print(\"95% Confidence Interval for Bus Car Traffic Mean:\", confidence_interval)"
   ]
  },
  {
   "cell_type": "code",
   "execution_count": 98,
   "id": "c0e21ea6",
   "metadata": {},
   "outputs": [
    {
     "name": "stdout",
     "output_type": "stream",
     "text": [
      "T-statistic: 5.719499820142219\n",
      "P-value: 0.0022847835958103276\n"
     ]
    }
   ],
   "source": [
    "# Testing if the mean of \"Bus and Motor Coach Traffic\" is significantly different from 200\n",
    "bus_traffic_data_dublin = df_bus_ireland['Bus and Motor Coach Traffic'].dropna()  # Remove missing values\n",
    "\n",
    "t_stat, p_value = stats.ttest_1samp(bus_traffic_data_dublin, 200)\n",
    "print(\"T-statistic:\", t_stat)\n",
    "print(\"P-value:\", p_value)"
   ]
  },
  {
   "cell_type": "markdown",
   "id": "51609942",
   "metadata": {},
   "source": [
    "**Interpretation of Confidence Interval:**\n",
    "\n",
    "The confidence interval provides a range in which we can be reasonably confident that the true population mean lies.\n",
    "\n",
    "**Interpretation of p-value from t-Test:**\n",
    "\n",
    "The p-value from the t-test is compared to a significance level (commonly 0.05) to determine if there is enough evidence to reject the null hypothesis.\n",
    "\n",
    "In this case, the small p-value (0.00228) suggests that there is evidence to reject the null hypothesis that the mean of \"Bus and Motor Coach Traffic\" is equal to 200.\n"
   ]
  },
  {
   "cell_type": "markdown",
   "id": "19cc44e3",
   "metadata": {},
   "source": [
    "Let's try to do the same test for 300:"
   ]
  },
  {
   "cell_type": "code",
   "execution_count": 119,
   "id": "5bea645d",
   "metadata": {},
   "outputs": [
    {
     "name": "stdout",
     "output_type": "stream",
     "text": [
      "T-statistic: 1.4245062130266608\n",
      "P-value: 0.2136071555678542\n"
     ]
    }
   ],
   "source": [
    "# Testing if the mean of \"Bus and Motor Coach Traffic\" is significantly different from 300\n",
    "bus_traffic_data_dublin = df_bus_ireland['Bus and Motor Coach Traffic'].dropna()  # Remove missing values\n",
    "\n",
    "t_stat, p_value = stats.ttest_1samp(bus_traffic_data_dublin, 300)\n",
    "print(\"T-statistic:\", t_stat)\n",
    "print(\"P-value:\", p_value)"
   ]
  },
  {
   "cell_type": "markdown",
   "id": "e73ea66a",
   "metadata": {},
   "source": [
    "**Result:**\n",
    "- **T-statistic:** 1.42\n",
    "- **P-value:** 0.21\n",
    "\n",
    "**Interpretation:**\n",
    "- The t-statistic of 1.42 is the test statistic, indicating how many standard errors the sample mean of Dublin is from the assumed population mean of 300.\n",
    "- The p-value of 0.21 is the probability of observing such an extreme t-statistic under the assumption that the null hypothesis (mean equals 300) is true.\n",
    "\n",
    "**Conclusion:**\n",
    "- With a p-value greater than the commonly used significance level of 0.05, we fail to reject the null hypothesis.\n",
    "- There is not enough evidence to suggest that the mean of \"Bus and Motor Coach Traffic\" in Dublin is significantly different from 300 at a 5% significance level.\n",
    "\n",
    "Therefore, based on this analysis, we do not have sufficient statistical evidence to conclude that the mean bus and motor coach traffic in Dublin differs significantly from 300.\n"
   ]
  },
  {
   "cell_type": "markdown",
   "id": "97589111",
   "metadata": {},
   "source": [
    "# Inferential Statistics on Ireland and other countries"
   ]
  },
  {
   "cell_type": "code",
   "execution_count": 102,
   "id": "06ab3660",
   "metadata": {},
   "outputs": [
    {
     "data": {
      "text/html": [
       "<div>\n",
       "<style scoped>\n",
       "    .dataframe tbody tr th:only-of-type {\n",
       "        vertical-align: middle;\n",
       "    }\n",
       "\n",
       "    .dataframe tbody tr th {\n",
       "        vertical-align: top;\n",
       "    }\n",
       "\n",
       "    .dataframe thead th {\n",
       "        text-align: right;\n",
       "    }\n",
       "</style>\n",
       "<table border=\"1\" class=\"dataframe\">\n",
       "  <thead>\n",
       "    <tr style=\"text-align: right;\">\n",
       "      <th></th>\n",
       "      <th>Year</th>\n",
       "      <th>Category</th>\n",
       "      <th>Bus and Motor Coach Traffic</th>\n",
       "      <th>Total four wheeled Traffic</th>\n",
       "    </tr>\n",
       "  </thead>\n",
       "  <tbody>\n",
       "    <tr>\n",
       "      <th>10</th>\n",
       "      <td>2021</td>\n",
       "      <td>Ireland</td>\n",
       "      <td>260.0</td>\n",
       "      <td>40942.0</td>\n",
       "    </tr>\n",
       "    <tr>\n",
       "      <th>10</th>\n",
       "      <td>2020</td>\n",
       "      <td>Ireland</td>\n",
       "      <td>271.0</td>\n",
       "      <td>35435.0</td>\n",
       "    </tr>\n",
       "    <tr>\n",
       "      <th>10</th>\n",
       "      <td>2019</td>\n",
       "      <td>Ireland</td>\n",
       "      <td>392.0</td>\n",
       "      <td>46049.0</td>\n",
       "    </tr>\n",
       "    <tr>\n",
       "      <th>10</th>\n",
       "      <td>2018</td>\n",
       "      <td>Ireland</td>\n",
       "      <td>386.0</td>\n",
       "      <td>46509.0</td>\n",
       "    </tr>\n",
       "    <tr>\n",
       "      <th>11</th>\n",
       "      <td>2017</td>\n",
       "      <td>Ireland</td>\n",
       "      <td>361.0</td>\n",
       "      <td>47687.0</td>\n",
       "    </tr>\n",
       "    <tr>\n",
       "      <th>11</th>\n",
       "      <td>2016</td>\n",
       "      <td>Ireland</td>\n",
       "      <td>329.0</td>\n",
       "      <td>46732.0</td>\n",
       "    </tr>\n",
       "  </tbody>\n",
       "</table>\n",
       "</div>"
      ],
      "text/plain": [
       "    Year Category  Bus and Motor Coach Traffic  Total four wheeled Traffic\n",
       "10  2021  Ireland                        260.0                     40942.0\n",
       "10  2020  Ireland                        271.0                     35435.0\n",
       "10  2019  Ireland                        392.0                     46049.0\n",
       "10  2018  Ireland                        386.0                     46509.0\n",
       "11  2017  Ireland                        361.0                     47687.0\n",
       "11  2016  Ireland                        329.0                     46732.0"
      ]
     },
     "execution_count": 102,
     "metadata": {},
     "output_type": "execute_result"
    }
   ],
   "source": [
    "df_bus_ireland"
   ]
  },
  {
   "cell_type": "code",
   "execution_count": 99,
   "id": "077813f6",
   "metadata": {},
   "outputs": [],
   "source": [
    "n_dublin = df_bus_ireland.shape[0]\n",
    "std_dublin = df_bus_ireland['Bus and Motor Coach Traffic'].std()\n",
    "avg_dublin = df_bus_ireland['Bus and Motor Coach Traffic'].mean()"
   ]
  },
  {
   "cell_type": "code",
   "execution_count": 103,
   "id": "86b76c89",
   "metadata": {},
   "outputs": [
    {
     "data": {
      "text/html": [
       "<div>\n",
       "<style scoped>\n",
       "    .dataframe tbody tr th:only-of-type {\n",
       "        vertical-align: middle;\n",
       "    }\n",
       "\n",
       "    .dataframe tbody tr th {\n",
       "        vertical-align: top;\n",
       "    }\n",
       "\n",
       "    .dataframe thead th {\n",
       "        text-align: right;\n",
       "    }\n",
       "</style>\n",
       "<table border=\"1\" class=\"dataframe\">\n",
       "  <thead>\n",
       "    <tr style=\"text-align: right;\">\n",
       "      <th></th>\n",
       "      <th>Year</th>\n",
       "      <th>Category</th>\n",
       "      <th>Bus and Motor Coach Traffic</th>\n",
       "      <th>Total four wheeled Traffic</th>\n",
       "    </tr>\n",
       "  </thead>\n",
       "  <tbody>\n",
       "    <tr>\n",
       "      <th>29</th>\n",
       "      <td>2021</td>\n",
       "      <td>Switzerland</td>\n",
       "      <td>138.0</td>\n",
       "      <td>64021.0</td>\n",
       "    </tr>\n",
       "    <tr>\n",
       "      <th>29</th>\n",
       "      <td>2020</td>\n",
       "      <td>Switzerland</td>\n",
       "      <td>131.0</td>\n",
       "      <td>60514.0</td>\n",
       "    </tr>\n",
       "    <tr>\n",
       "      <th>28</th>\n",
       "      <td>2019</td>\n",
       "      <td>Switzerland</td>\n",
       "      <td>142.0</td>\n",
       "      <td>66869.0</td>\n",
       "    </tr>\n",
       "    <tr>\n",
       "      <th>28</th>\n",
       "      <td>2018</td>\n",
       "      <td>Switzerland</td>\n",
       "      <td>139.0</td>\n",
       "      <td>66251.0</td>\n",
       "    </tr>\n",
       "    <tr>\n",
       "      <th>29</th>\n",
       "      <td>2017</td>\n",
       "      <td>Switzerland</td>\n",
       "      <td>136.0</td>\n",
       "      <td>65505.0</td>\n",
       "    </tr>\n",
       "    <tr>\n",
       "      <th>28</th>\n",
       "      <td>2016</td>\n",
       "      <td>Switzerland</td>\n",
       "      <td>134.0</td>\n",
       "      <td>64375.0</td>\n",
       "    </tr>\n",
       "  </tbody>\n",
       "</table>\n",
       "</div>"
      ],
      "text/plain": [
       "    Year     Category  Bus and Motor Coach Traffic  Total four wheeled Traffic\n",
       "29  2021  Switzerland                        138.0                     64021.0\n",
       "29  2020  Switzerland                        131.0                     60514.0\n",
       "28  2019  Switzerland                        142.0                     66869.0\n",
       "28  2018  Switzerland                        139.0                     66251.0\n",
       "29  2017  Switzerland                        136.0                     65505.0\n",
       "28  2016  Switzerland                        134.0                     64375.0"
      ]
     },
     "execution_count": 103,
     "metadata": {},
     "output_type": "execute_result"
    }
   ],
   "source": [
    "df_bus_switzerland"
   ]
  },
  {
   "cell_type": "code",
   "execution_count": 100,
   "id": "ae900238",
   "metadata": {},
   "outputs": [],
   "source": [
    "df_bus_switzerland = df_bus.loc[df_bus[\"Category\"]==\"Switzerland\"]\n",
    "n_switzerland = df_bus_switzerland.shape[0]\n",
    "std_switzerland = df_bus_switzerland['Bus and Motor Coach Traffic'].std()\n",
    "avg_switzerland = df_bus_switzerland['Bus and Motor Coach Traffic'].mean()"
   ]
  },
  {
   "cell_type": "markdown",
   "id": "fb12bf92",
   "metadata": {},
   "source": [
    "We perform the t test for two populations, Ireland and Switzerland, to see if they have the same average buses"
   ]
  },
  {
   "cell_type": "code",
   "execution_count": 104,
   "id": "f014920f",
   "metadata": {},
   "outputs": [],
   "source": [
    "#H0: mu Ireland = mu Switzerland // H1: mu Ireland =! mu Switzerland\n",
    "\n",
    "t_test = stats.ttest_ind_from_stats(mean1 = avg_dublin, std1 = std_dublin, nobs1 = n_dublin, \n",
    "                                    mean2 = avg_switzerland, std2 = std_switzerland, nobs2 = n_switzerland, \n",
    "                                    equal_var = False)"
   ]
  },
  {
   "cell_type": "code",
   "execution_count": 105,
   "id": "d5656fca",
   "metadata": {},
   "outputs": [
    {
     "data": {
      "text/plain": [
       "Ttest_indResult(statistic=8.420182820205463, pvalue=0.00037033951688098595)"
      ]
     },
     "execution_count": 105,
     "metadata": {},
     "output_type": "execute_result"
    }
   ],
   "source": [
    "t_test"
   ]
  },
  {
   "cell_type": "code",
   "execution_count": 110,
   "id": "14c8b977",
   "metadata": {},
   "outputs": [],
   "source": [
    "X1 = df_bus.loc[df_bus[\"Category\"]==\"Switzerland\"][\"Bus and Motor Coach Traffic\"]\n",
    "X2 = df_bus.loc[df_bus[\"Category\"]==\"Ireland\"][\"Bus and Motor Coach Traffic\"]\n",
    "\n",
    "t_test = stats.ttest_ind(X1, X2, equal_var = False)"
   ]
  },
  {
   "cell_type": "code",
   "execution_count": 111,
   "id": "81730dd6",
   "metadata": {},
   "outputs": [
    {
     "data": {
      "text/plain": [
       "Ttest_indResult(statistic=-8.420182820205463, pvalue=0.00037033951688098595)"
      ]
     },
     "execution_count": 111,
     "metadata": {},
     "output_type": "execute_result"
    }
   ],
   "source": [
    "t_test"
   ]
  },
  {
   "cell_type": "markdown",
   "id": "fcffa298",
   "metadata": {},
   "source": [
    "**Independent Samples t-Test with Pooled Standard Deviation:**\n",
    "\n",
    "- **Null Hypothesis (H0):** The mean bus and motor coach traffic in Ireland is equal to the mean in Switzerland.\n",
    "- **Alternative Hypothesis (H1):** The mean bus and motor coach traffic in Ireland is not equal to the mean in Switzerland.\n",
    "\n",
    "**Result:**\n",
    "\n",
    "- **T-statistic:** 8.42\n",
    "- **P-value:** 0.00037\n",
    "\n",
    "**Interpretation:**\n",
    "\n",
    "- The t-statistic of 8.42 is the test statistic, indicating how many standard errors the sample mean of Ireland is from the sample mean of Switzerland.\n",
    "- The p-value of 0.00037 is the probability of observing such an extreme t-statistic under the assumption that the null hypothesis is true.\n",
    "\n",
    "**Conclusion:**\n",
    "\n",
    "- With a very low p-value (below commonly used significance levels like 0.05), we reject the null hypothesis.\n",
    "- There is enough evidence to suggest that the mean \"Bus and Motor Coach Traffic\" in Ireland is significantly different from the mean in Switzerland.\n",
    "\n",
    "**Independent Samples t-Test without Pooled Standard Deviation:**\n",
    "\n",
    "- **Null Hypothesis (H0):** The mean bus and motor coach traffic in Ireland is equal to the mean in Switzerland.\n",
    "- **Alternative Hypothesis (H1):** The mean bus and motor coach traffic in Ireland is not equal to the mean in Switzerland.\n",
    "\n",
    "**Result:**\n",
    "\n",
    "- **T-statistic:** -8.42 (negative because the order of the means is reversed in the function call)\n",
    "- **P-value:** 0.00037\n",
    "\n",
    "**Interpretation:**\n",
    "\n",
    "- The results are consistent with the previous test but obtained using a different method.\n",
    "\n",
    "**Conclusion:**\n",
    "\n",
    "- The conclusion remains the same: there is enough evidence to suggest that the mean \"Bus and Motor Coach Traffic\" in Ireland is significantly different from the mean in Switzerland.\n",
    "\n",
    "In summary, both methods (with and without pooled standard deviation) lead to the same conclusion, indicating a significant difference in the mean bus and motor coach traffic between Ireland and Switzerland.\n"
   ]
  },
  {
   "cell_type": "markdown",
   "id": "e581b152",
   "metadata": {},
   "source": [
    "What about if we do the same calculus taking into consideration the % of bus traffic with respect to four wheeled Traffic?  "
   ]
  },
  {
   "cell_type": "code",
   "execution_count": 115,
   "id": "e60acb1b",
   "metadata": {},
   "outputs": [
    {
     "name": "stderr",
     "output_type": "stream",
     "text": [
      "C:\\Users\\Simone\\AppData\\Local\\Temp\\ipykernel_31408\\2787199886.py:1: SettingWithCopyWarning: \n",
      "A value is trying to be set on a copy of a slice from a DataFrame.\n",
      "Try using .loc[row_indexer,col_indexer] = value instead\n",
      "\n",
      "See the caveats in the documentation: https://pandas.pydata.org/pandas-docs/stable/user_guide/indexing.html#returning-a-view-versus-a-copy\n",
      "  df_bus_ireland[\"Bus and Motor Coach Traffic %\"] = df_bus_ireland[\"Bus and Motor Coach Traffic\"]*100/df_bus_ireland[\"Total four wheeled Traffic\"]\n",
      "C:\\Users\\Simone\\AppData\\Local\\Temp\\ipykernel_31408\\2787199886.py:2: SettingWithCopyWarning: \n",
      "A value is trying to be set on a copy of a slice from a DataFrame.\n",
      "Try using .loc[row_indexer,col_indexer] = value instead\n",
      "\n",
      "See the caveats in the documentation: https://pandas.pydata.org/pandas-docs/stable/user_guide/indexing.html#returning-a-view-versus-a-copy\n",
      "  df_bus_switzerland[\"Bus and Motor Coach Traffic %\"] = df_bus_switzerland[\"Bus and Motor Coach Traffic\"]*100/df_bus_switzerland[\"Total four wheeled Traffic\"]\n"
     ]
    }
   ],
   "source": [
    "df_bus_ireland[\"Bus and Motor Coach Traffic %\"] = df_bus_ireland[\"Bus and Motor Coach Traffic\"]*100/df_bus_ireland[\"Total four wheeled Traffic\"]\n",
    "df_bus_switzerland[\"Bus and Motor Coach Traffic %\"] = df_bus_switzerland[\"Bus and Motor Coach Traffic\"]*100/df_bus_switzerland[\"Total four wheeled Traffic\"]"
   ]
  },
  {
   "cell_type": "code",
   "execution_count": 114,
   "id": "e115c08f",
   "metadata": {},
   "outputs": [
    {
     "data": {
      "text/html": [
       "<div>\n",
       "<style scoped>\n",
       "    .dataframe tbody tr th:only-of-type {\n",
       "        vertical-align: middle;\n",
       "    }\n",
       "\n",
       "    .dataframe tbody tr th {\n",
       "        vertical-align: top;\n",
       "    }\n",
       "\n",
       "    .dataframe thead th {\n",
       "        text-align: right;\n",
       "    }\n",
       "</style>\n",
       "<table border=\"1\" class=\"dataframe\">\n",
       "  <thead>\n",
       "    <tr style=\"text-align: right;\">\n",
       "      <th></th>\n",
       "      <th>Year</th>\n",
       "      <th>Category</th>\n",
       "      <th>Bus and Motor Coach Traffic</th>\n",
       "      <th>Total four wheeled Traffic</th>\n",
       "      <th>Bus and Motor Coach Traffic %</th>\n",
       "    </tr>\n",
       "  </thead>\n",
       "  <tbody>\n",
       "    <tr>\n",
       "      <th>10</th>\n",
       "      <td>2021</td>\n",
       "      <td>Ireland</td>\n",
       "      <td>260.0</td>\n",
       "      <td>40942.0</td>\n",
       "      <td>0.635045</td>\n",
       "    </tr>\n",
       "    <tr>\n",
       "      <th>10</th>\n",
       "      <td>2020</td>\n",
       "      <td>Ireland</td>\n",
       "      <td>271.0</td>\n",
       "      <td>35435.0</td>\n",
       "      <td>0.764781</td>\n",
       "    </tr>\n",
       "    <tr>\n",
       "      <th>10</th>\n",
       "      <td>2019</td>\n",
       "      <td>Ireland</td>\n",
       "      <td>392.0</td>\n",
       "      <td>46049.0</td>\n",
       "      <td>0.851267</td>\n",
       "    </tr>\n",
       "    <tr>\n",
       "      <th>10</th>\n",
       "      <td>2018</td>\n",
       "      <td>Ireland</td>\n",
       "      <td>386.0</td>\n",
       "      <td>46509.0</td>\n",
       "      <td>0.829947</td>\n",
       "    </tr>\n",
       "    <tr>\n",
       "      <th>11</th>\n",
       "      <td>2017</td>\n",
       "      <td>Ireland</td>\n",
       "      <td>361.0</td>\n",
       "      <td>47687.0</td>\n",
       "      <td>0.757020</td>\n",
       "    </tr>\n",
       "    <tr>\n",
       "      <th>11</th>\n",
       "      <td>2016</td>\n",
       "      <td>Ireland</td>\n",
       "      <td>329.0</td>\n",
       "      <td>46732.0</td>\n",
       "      <td>0.704014</td>\n",
       "    </tr>\n",
       "  </tbody>\n",
       "</table>\n",
       "</div>"
      ],
      "text/plain": [
       "    Year Category  Bus and Motor Coach Traffic  Total four wheeled Traffic  \\\n",
       "10  2021  Ireland                        260.0                     40942.0   \n",
       "10  2020  Ireland                        271.0                     35435.0   \n",
       "10  2019  Ireland                        392.0                     46049.0   \n",
       "10  2018  Ireland                        386.0                     46509.0   \n",
       "11  2017  Ireland                        361.0                     47687.0   \n",
       "11  2016  Ireland                        329.0                     46732.0   \n",
       "\n",
       "    Bus and Motor Coach Traffic %  \n",
       "10                       0.635045  \n",
       "10                       0.764781  \n",
       "10                       0.851267  \n",
       "10                       0.829947  \n",
       "11                       0.757020  \n",
       "11                       0.704014  "
      ]
     },
     "execution_count": 114,
     "metadata": {},
     "output_type": "execute_result"
    }
   ],
   "source": [
    "df_bus_ireland"
   ]
  },
  {
   "cell_type": "code",
   "execution_count": 116,
   "id": "c83a2cdf",
   "metadata": {},
   "outputs": [
    {
     "data": {
      "text/html": [
       "<div>\n",
       "<style scoped>\n",
       "    .dataframe tbody tr th:only-of-type {\n",
       "        vertical-align: middle;\n",
       "    }\n",
       "\n",
       "    .dataframe tbody tr th {\n",
       "        vertical-align: top;\n",
       "    }\n",
       "\n",
       "    .dataframe thead th {\n",
       "        text-align: right;\n",
       "    }\n",
       "</style>\n",
       "<table border=\"1\" class=\"dataframe\">\n",
       "  <thead>\n",
       "    <tr style=\"text-align: right;\">\n",
       "      <th></th>\n",
       "      <th>Year</th>\n",
       "      <th>Category</th>\n",
       "      <th>Bus and Motor Coach Traffic</th>\n",
       "      <th>Total four wheeled Traffic</th>\n",
       "      <th>Bus and Motor Coach Traffic %</th>\n",
       "    </tr>\n",
       "  </thead>\n",
       "  <tbody>\n",
       "    <tr>\n",
       "      <th>29</th>\n",
       "      <td>2021</td>\n",
       "      <td>Switzerland</td>\n",
       "      <td>138.0</td>\n",
       "      <td>64021.0</td>\n",
       "      <td>0.215554</td>\n",
       "    </tr>\n",
       "    <tr>\n",
       "      <th>29</th>\n",
       "      <td>2020</td>\n",
       "      <td>Switzerland</td>\n",
       "      <td>131.0</td>\n",
       "      <td>60514.0</td>\n",
       "      <td>0.216479</td>\n",
       "    </tr>\n",
       "    <tr>\n",
       "      <th>28</th>\n",
       "      <td>2019</td>\n",
       "      <td>Switzerland</td>\n",
       "      <td>142.0</td>\n",
       "      <td>66869.0</td>\n",
       "      <td>0.212356</td>\n",
       "    </tr>\n",
       "    <tr>\n",
       "      <th>28</th>\n",
       "      <td>2018</td>\n",
       "      <td>Switzerland</td>\n",
       "      <td>139.0</td>\n",
       "      <td>66251.0</td>\n",
       "      <td>0.209808</td>\n",
       "    </tr>\n",
       "    <tr>\n",
       "      <th>29</th>\n",
       "      <td>2017</td>\n",
       "      <td>Switzerland</td>\n",
       "      <td>136.0</td>\n",
       "      <td>65505.0</td>\n",
       "      <td>0.207618</td>\n",
       "    </tr>\n",
       "    <tr>\n",
       "      <th>28</th>\n",
       "      <td>2016</td>\n",
       "      <td>Switzerland</td>\n",
       "      <td>134.0</td>\n",
       "      <td>64375.0</td>\n",
       "      <td>0.208155</td>\n",
       "    </tr>\n",
       "  </tbody>\n",
       "</table>\n",
       "</div>"
      ],
      "text/plain": [
       "    Year     Category  Bus and Motor Coach Traffic  \\\n",
       "29  2021  Switzerland                        138.0   \n",
       "29  2020  Switzerland                        131.0   \n",
       "28  2019  Switzerland                        142.0   \n",
       "28  2018  Switzerland                        139.0   \n",
       "29  2017  Switzerland                        136.0   \n",
       "28  2016  Switzerland                        134.0   \n",
       "\n",
       "    Total four wheeled Traffic  Bus and Motor Coach Traffic %  \n",
       "29                     64021.0                       0.215554  \n",
       "29                     60514.0                       0.216479  \n",
       "28                     66869.0                       0.212356  \n",
       "28                     66251.0                       0.209808  \n",
       "29                     65505.0                       0.207618  \n",
       "28                     64375.0                       0.208155  "
      ]
     },
     "execution_count": 116,
     "metadata": {},
     "output_type": "execute_result"
    }
   ],
   "source": [
    "df_bus_switzerland"
   ]
  },
  {
   "cell_type": "code",
   "execution_count": 117,
   "id": "396dfe5a",
   "metadata": {},
   "outputs": [],
   "source": [
    "X1 = df_bus_ireland[\"Bus and Motor Coach Traffic %\"]\n",
    "X2 = df_bus_switzerland[\"Bus and Motor Coach Traffic %\"]\n",
    "\n",
    "t_test = stats.ttest_ind(X1, X2, equal_var = False)"
   ]
  },
  {
   "cell_type": "code",
   "execution_count": 118,
   "id": "de4f8c32",
   "metadata": {},
   "outputs": [
    {
     "data": {
      "text/plain": [
       "Ttest_indResult(statistic=16.692779735745855, pvalue=1.3599795956174663e-05)"
      ]
     },
     "execution_count": 118,
     "metadata": {},
     "output_type": "execute_result"
    }
   ],
   "source": [
    "t_test"
   ]
  },
  {
   "cell_type": "markdown",
   "id": "07d71e78",
   "metadata": {},
   "source": [
    "With a p-value much smaller than common significance levels like 0.05, we reject the null hypothesis.\n",
    "\n",
    "There is strong evidence to suggest that the mean percentage of \"Bus and Motor Coach Traffic\" in Ireland is significantly different from the mean in Switzerland."
   ]
  },
  {
   "cell_type": "code",
   "execution_count": null,
   "id": "bbd43037",
   "metadata": {},
   "outputs": [],
   "source": []
  }
 ],
 "metadata": {
  "kernelspec": {
   "display_name": "Python 3 (ipykernel)",
   "language": "python",
   "name": "python3"
  },
  "language_info": {
   "codemirror_mode": {
    "name": "ipython",
    "version": 3
   },
   "file_extension": ".py",
   "mimetype": "text/x-python",
   "name": "python",
   "nbconvert_exporter": "python",
   "pygments_lexer": "ipython3",
   "version": "3.9.12"
  }
 },
 "nbformat": 4,
 "nbformat_minor": 5
}
