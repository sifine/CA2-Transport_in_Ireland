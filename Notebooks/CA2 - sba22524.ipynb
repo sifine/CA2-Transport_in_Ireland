{
 "cells": [
  {
   "cell_type": "markdown",
   "id": "fc48241c",
   "metadata": {},
   "source": [
    "https://worldroadstatistics.org/wrs-data/data/"
   ]
  },
  {
   "cell_type": "markdown",
   "id": "b86214a4",
   "metadata": {},
   "source": [
    "Area of analysis: is Ireland a country heavely dependent on public transportation or not?"
   ]
  },
  {
   "cell_type": "markdown",
   "id": "8269d25f",
   "metadata": {},
   "source": [
    "# Data loading"
   ]
  },
  {
   "cell_type": "code",
   "execution_count": 7,
   "id": "17f2160b",
   "metadata": {},
   "outputs": [],
   "source": [
    "import pandas as pd\n",
    "\n",
    "df_2021 = pd.read_csv(\"../Data/total-four-wheeled-traffic-(by-vehicle-type)---2021.csv\")\n",
    "df_2020 = pd.read_csv(\"../Data/total-four-wheeled-traffic-(by-vehicle-type)---2020.csv\")\n",
    "df_2019 = pd.read_csv(\"../Data/total-four-wheeled-traffic-(by-vehicle-type)---2019.csv\")\n",
    "df_2018 = pd.read_csv(\"../Data/total-four-wheeled-traffic-(by-vehicle-type)---2018.csv\")\n",
    "df_2017 = pd.read_csv(\"../Data/total-four-wheeled-traffic-(by-vehicle-type)---2017.csv\")\n",
    "df_2016 = pd.read_csv(\"../Data/total-four-wheeled-traffic-(by-vehicle-type)---2016.csv\")"
   ]
  },
  {
   "cell_type": "code",
   "execution_count": 11,
   "id": "3b5059ea",
   "metadata": {},
   "outputs": [],
   "source": [
    "df_2021[\"Year\"] = 2021 \n",
    "df_2020[\"Year\"] = 2020\n",
    "df_2019[\"Year\"] = 2019\n",
    "df_2018[\"Year\"] = 2018\n",
    "df_2017[\"Year\"] = 2017\n",
    "df_2016[\"Year\"] = 2016"
   ]
  },
  {
   "cell_type": "code",
   "execution_count": 14,
   "id": "65317a14",
   "metadata": {},
   "outputs": [],
   "source": [
    "df = pd.concat([df_2021,df_2020,df_2019,df_2018,df_2017,df_2016])"
   ]
  },
  {
   "cell_type": "markdown",
   "id": "863512ba",
   "metadata": {},
   "source": [
    "# Descriptive Statistics "
   ]
  },
  {
   "cell_type": "code",
   "execution_count": 21,
   "id": "049de9c6",
   "metadata": {},
   "outputs": [
    {
     "data": {
      "text/html": [
       "<div>\n",
       "<style scoped>\n",
       "    .dataframe tbody tr th:only-of-type {\n",
       "        vertical-align: middle;\n",
       "    }\n",
       "\n",
       "    .dataframe tbody tr th {\n",
       "        vertical-align: top;\n",
       "    }\n",
       "\n",
       "    .dataframe thead th {\n",
       "        text-align: right;\n",
       "    }\n",
       "</style>\n",
       "<table border=\"1\" class=\"dataframe\">\n",
       "  <thead>\n",
       "    <tr style=\"text-align: right;\">\n",
       "      <th></th>\n",
       "      <th>Category</th>\n",
       "      <th>Passenger Car Traffic</th>\n",
       "      <th>Bus and Motor Coach Traffic</th>\n",
       "      <th>Total Van, Pickup, Lorry and Road Tractor Traffic</th>\n",
       "      <th>Total four wheeled Traffic</th>\n",
       "      <th>Year</th>\n",
       "    </tr>\n",
       "  </thead>\n",
       "  <tbody>\n",
       "    <tr>\n",
       "      <th>0</th>\n",
       "      <td>Austria</td>\n",
       "      <td>60721.0</td>\n",
       "      <td>390.0</td>\n",
       "      <td>13810.0</td>\n",
       "      <td>74921.0</td>\n",
       "      <td>2021</td>\n",
       "    </tr>\n",
       "    <tr>\n",
       "      <th>1</th>\n",
       "      <td>Belarus</td>\n",
       "      <td>244.0</td>\n",
       "      <td>324.0</td>\n",
       "      <td>935.0</td>\n",
       "      <td>1503.0</td>\n",
       "      <td>2021</td>\n",
       "    </tr>\n",
       "    <tr>\n",
       "      <th>2</th>\n",
       "      <td>Bulgaria</td>\n",
       "      <td>NaN</td>\n",
       "      <td>353.0</td>\n",
       "      <td>2757.0</td>\n",
       "      <td>3110.0</td>\n",
       "      <td>2021</td>\n",
       "    </tr>\n",
       "    <tr>\n",
       "      <th>3</th>\n",
       "      <td>Croatia</td>\n",
       "      <td>19780.0</td>\n",
       "      <td>240.0</td>\n",
       "      <td>3170.0</td>\n",
       "      <td>23190.0</td>\n",
       "      <td>2021</td>\n",
       "    </tr>\n",
       "    <tr>\n",
       "      <th>4</th>\n",
       "      <td>Denmark</td>\n",
       "      <td>40313.0</td>\n",
       "      <td>624.0</td>\n",
       "      <td>9257.0</td>\n",
       "      <td>50194.0</td>\n",
       "      <td>2021</td>\n",
       "    </tr>\n",
       "  </tbody>\n",
       "</table>\n",
       "</div>"
      ],
      "text/plain": [
       "   Category  Passenger Car Traffic  Bus and Motor Coach Traffic  \\\n",
       "0   Austria                60721.0                        390.0   \n",
       "1   Belarus                  244.0                        324.0   \n",
       "2  Bulgaria                    NaN                        353.0   \n",
       "3   Croatia                19780.0                        240.0   \n",
       "4   Denmark                40313.0                        624.0   \n",
       "\n",
       "   Total Van, Pickup, Lorry and Road Tractor Traffic  \\\n",
       "0                                            13810.0   \n",
       "1                                              935.0   \n",
       "2                                             2757.0   \n",
       "3                                             3170.0   \n",
       "4                                             9257.0   \n",
       "\n",
       "   Total four wheeled Traffic  Year  \n",
       "0                     74921.0  2021  \n",
       "1                      1503.0  2021  \n",
       "2                      3110.0  2021  \n",
       "3                     23190.0  2021  \n",
       "4                     50194.0  2021  "
      ]
     },
     "execution_count": 21,
     "metadata": {},
     "output_type": "execute_result"
    }
   ],
   "source": [
    "# Display the first 5 rows of df\n",
    "df.head()"
   ]
  },
  {
   "cell_type": "code",
   "execution_count": 22,
   "id": "f1f8b509",
   "metadata": {},
   "outputs": [
    {
     "data": {
      "text/plain": [
       "(188, 6)"
      ]
     },
     "execution_count": 22,
     "metadata": {},
     "output_type": "execute_result"
    }
   ],
   "source": [
    "# Dysplay the shape of our dataset\n",
    "df.shape"
   ]
  },
  {
   "cell_type": "code",
   "execution_count": 23,
   "id": "7b7188fc",
   "metadata": {},
   "outputs": [
    {
     "name": "stdout",
     "output_type": "stream",
     "text": [
      "<class 'pandas.core.frame.DataFrame'>\n",
      "Int64Index: 188 entries, 0 to 30\n",
      "Data columns (total 6 columns):\n",
      " #   Column                                             Non-Null Count  Dtype  \n",
      "---  ------                                             --------------  -----  \n",
      " 0   Category                                           188 non-null    object \n",
      " 1   Passenger Car Traffic                              152 non-null    float64\n",
      " 2   Bus and Motor Coach Traffic                        176 non-null    float64\n",
      " 3   Total Van, Pickup, Lorry and Road Tractor Traffic  175 non-null    float64\n",
      " 4   Total four wheeled Traffic                         158 non-null    float64\n",
      " 5   Year                                               188 non-null    int64  \n",
      "dtypes: float64(4), int64(1), object(1)\n",
      "memory usage: 10.3+ KB\n"
     ]
    }
   ],
   "source": [
    "# Display data types\n",
    "df.info()"
   ]
  },
  {
   "cell_type": "code",
   "execution_count": 24,
   "id": "a2a65c80",
   "metadata": {},
   "outputs": [
    {
     "data": {
      "text/plain": [
       "Category                                              0\n",
       "Passenger Car Traffic                                36\n",
       "Bus and Motor Coach Traffic                          12\n",
       "Total Van, Pickup, Lorry and Road Tractor Traffic    13\n",
       "Total four wheeled Traffic                           30\n",
       "Year                                                  0\n",
       "dtype: int64"
      ]
     },
     "execution_count": 24,
     "metadata": {},
     "output_type": "execute_result"
    }
   ],
   "source": [
    "# Display sum of null values for each column\n",
    "df.isnull().sum()"
   ]
  },
  {
   "cell_type": "code",
   "execution_count": 29,
   "id": "3a755ff3",
   "metadata": {},
   "outputs": [
    {
     "data": {
      "text/plain": [
       "array(['Austria', 'Belarus', 'Bulgaria', 'Croatia', 'Denmark', 'Estonia',\n",
       "       'Finland', 'France', 'Germany', 'Hungary', 'Ireland', 'Latvia',\n",
       "       'Lithuania', 'Malta', 'Moldova', 'Monaco', 'Montenegro',\n",
       "       'Netherlands', 'North Macedonia', 'Norway', 'Poland', 'Portugal',\n",
       "       'Romania', 'Russian Federation', 'Serbia', 'Slovak Republic',\n",
       "       'Slovenia', 'Spain', 'Sweden', 'Switzerland', 'United Kingdom',\n",
       "       'Ukraine', 'Belgium'], dtype=object)"
      ]
     },
     "execution_count": 29,
     "metadata": {},
     "output_type": "execute_result"
    }
   ],
   "source": [
    "# Printing of unique values per column\n",
    "df.Category.unique()"
   ]
  },
  {
   "cell_type": "code",
   "execution_count": 38,
   "id": "eb695ecf",
   "metadata": {},
   "outputs": [
    {
     "data": {
      "text/html": [
       "<div>\n",
       "<style scoped>\n",
       "    .dataframe tbody tr th:only-of-type {\n",
       "        vertical-align: middle;\n",
       "    }\n",
       "\n",
       "    .dataframe tbody tr th {\n",
       "        vertical-align: top;\n",
       "    }\n",
       "\n",
       "    .dataframe thead th {\n",
       "        text-align: right;\n",
       "    }\n",
       "</style>\n",
       "<table border=\"1\" class=\"dataframe\">\n",
       "  <thead>\n",
       "    <tr style=\"text-align: right;\">\n",
       "      <th></th>\n",
       "      <th>Passenger Car Traffic</th>\n",
       "      <th>Bus and Motor Coach Traffic</th>\n",
       "      <th>Total Van, Pickup, Lorry and Road Tractor Traffic</th>\n",
       "      <th>Total four wheeled Traffic</th>\n",
       "      <th>Year</th>\n",
       "    </tr>\n",
       "  </thead>\n",
       "  <tbody>\n",
       "    <tr>\n",
       "      <th>count</th>\n",
       "      <td>25.000000</td>\n",
       "      <td>29.000000</td>\n",
       "      <td>28.000000</td>\n",
       "      <td>26.000000</td>\n",
       "      <td>31.0</td>\n",
       "    </tr>\n",
       "    <tr>\n",
       "      <th>mean</th>\n",
       "      <td>89225.760000</td>\n",
       "      <td>726.413793</td>\n",
       "      <td>19942.500000</td>\n",
       "      <td>107020.653846</td>\n",
       "      <td>2021.0</td>\n",
       "    </tr>\n",
       "    <tr>\n",
       "      <th>std</th>\n",
       "      <td>149398.238108</td>\n",
       "      <td>1014.271009</td>\n",
       "      <td>32740.725805</td>\n",
       "      <td>180480.177848</td>\n",
       "      <td>0.0</td>\n",
       "    </tr>\n",
       "    <tr>\n",
       "      <th>min</th>\n",
       "      <td>55.000000</td>\n",
       "      <td>3.000000</td>\n",
       "      <td>4.000000</td>\n",
       "      <td>62.000000</td>\n",
       "      <td>2021.0</td>\n",
       "    </tr>\n",
       "    <tr>\n",
       "      <th>25%</th>\n",
       "      <td>9393.000000</td>\n",
       "      <td>138.000000</td>\n",
       "      <td>2738.000000</td>\n",
       "      <td>11584.750000</td>\n",
       "      <td>2021.0</td>\n",
       "    </tr>\n",
       "    <tr>\n",
       "      <th>50%</th>\n",
       "      <td>32284.000000</td>\n",
       "      <td>324.000000</td>\n",
       "      <td>8275.000000</td>\n",
       "      <td>43019.500000</td>\n",
       "      <td>2021.0</td>\n",
       "    </tr>\n",
       "    <tr>\n",
       "      <th>75%</th>\n",
       "      <td>63913.000000</td>\n",
       "      <td>665.000000</td>\n",
       "      <td>16833.750000</td>\n",
       "      <td>78344.750000</td>\n",
       "      <td>2021.0</td>\n",
       "    </tr>\n",
       "    <tr>\n",
       "      <th>max</th>\n",
       "      <td>582400.000000</td>\n",
       "      <td>3862.000000</td>\n",
       "      <td>116000.000000</td>\n",
       "      <td>677800.000000</td>\n",
       "      <td>2021.0</td>\n",
       "    </tr>\n",
       "  </tbody>\n",
       "</table>\n",
       "</div>"
      ],
      "text/plain": [
       "       Passenger Car Traffic  Bus and Motor Coach Traffic  \\\n",
       "count              25.000000                    29.000000   \n",
       "mean            89225.760000                   726.413793   \n",
       "std            149398.238108                  1014.271009   \n",
       "min                55.000000                     3.000000   \n",
       "25%              9393.000000                   138.000000   \n",
       "50%             32284.000000                   324.000000   \n",
       "75%             63913.000000                   665.000000   \n",
       "max            582400.000000                  3862.000000   \n",
       "\n",
       "       Total Van, Pickup, Lorry and Road Tractor Traffic  \\\n",
       "count                                          28.000000   \n",
       "mean                                        19942.500000   \n",
       "std                                         32740.725805   \n",
       "min                                             4.000000   \n",
       "25%                                          2738.000000   \n",
       "50%                                          8275.000000   \n",
       "75%                                         16833.750000   \n",
       "max                                        116000.000000   \n",
       "\n",
       "       Total four wheeled Traffic    Year  \n",
       "count                   26.000000    31.0  \n",
       "mean                107020.653846  2021.0  \n",
       "std                 180480.177848     0.0  \n",
       "min                     62.000000  2021.0  \n",
       "25%                  11584.750000  2021.0  \n",
       "50%                  43019.500000  2021.0  \n",
       "75%                  78344.750000  2021.0  \n",
       "max                 677800.000000  2021.0  "
      ]
     },
     "execution_count": 38,
     "metadata": {},
     "output_type": "execute_result"
    }
   ],
   "source": [
    "# Display data distribution\n",
    "df.loc[df[\"Year\"]==2021].describe()"
   ]
  },
  {
   "cell_type": "code",
   "execution_count": 50,
   "id": "f6ca899c",
   "metadata": {},
   "outputs": [],
   "source": [
    "df_bus = df[[\"Year\", \"Category\", \"Bus and Motor Coach Traffic\", \"Total four wheeled Traffic\"]]"
   ]
  },
  {
   "cell_type": "code",
   "execution_count": 54,
   "id": "b93ec2db",
   "metadata": {},
   "outputs": [],
   "source": [
    "df_bus_ireland = df_bus.loc[df_bus[\"Category\"]==\"Ireland\"]"
   ]
  },
  {
   "cell_type": "code",
   "execution_count": 60,
   "id": "6ae3c800",
   "metadata": {},
   "outputs": [
    {
     "data": {
      "text/html": [
       "<div>\n",
       "<style scoped>\n",
       "    .dataframe tbody tr th:only-of-type {\n",
       "        vertical-align: middle;\n",
       "    }\n",
       "\n",
       "    .dataframe tbody tr th {\n",
       "        vertical-align: top;\n",
       "    }\n",
       "\n",
       "    .dataframe thead th {\n",
       "        text-align: right;\n",
       "    }\n",
       "</style>\n",
       "<table border=\"1\" class=\"dataframe\">\n",
       "  <thead>\n",
       "    <tr style=\"text-align: right;\">\n",
       "      <th></th>\n",
       "      <th>Year</th>\n",
       "      <th>Bus and Motor Coach Traffic</th>\n",
       "      <th>Total four wheeled Traffic</th>\n",
       "    </tr>\n",
       "  </thead>\n",
       "  <tbody>\n",
       "    <tr>\n",
       "      <th>count</th>\n",
       "      <td>6.000000</td>\n",
       "      <td>6.000000</td>\n",
       "      <td>6.000000</td>\n",
       "    </tr>\n",
       "    <tr>\n",
       "      <th>mean</th>\n",
       "      <td>2018.500000</td>\n",
       "      <td>333.166667</td>\n",
       "      <td>43892.333333</td>\n",
       "    </tr>\n",
       "    <tr>\n",
       "      <th>std</th>\n",
       "      <td>1.870829</td>\n",
       "      <td>57.031278</td>\n",
       "      <td>4778.960375</td>\n",
       "    </tr>\n",
       "    <tr>\n",
       "      <th>min</th>\n",
       "      <td>2016.000000</td>\n",
       "      <td>260.000000</td>\n",
       "      <td>35435.000000</td>\n",
       "    </tr>\n",
       "    <tr>\n",
       "      <th>25%</th>\n",
       "      <td>2017.250000</td>\n",
       "      <td>285.500000</td>\n",
       "      <td>42218.750000</td>\n",
       "    </tr>\n",
       "    <tr>\n",
       "      <th>50%</th>\n",
       "      <td>2018.500000</td>\n",
       "      <td>345.000000</td>\n",
       "      <td>46279.000000</td>\n",
       "    </tr>\n",
       "    <tr>\n",
       "      <th>75%</th>\n",
       "      <td>2019.750000</td>\n",
       "      <td>379.750000</td>\n",
       "      <td>46676.250000</td>\n",
       "    </tr>\n",
       "    <tr>\n",
       "      <th>max</th>\n",
       "      <td>2021.000000</td>\n",
       "      <td>392.000000</td>\n",
       "      <td>47687.000000</td>\n",
       "    </tr>\n",
       "  </tbody>\n",
       "</table>\n",
       "</div>"
      ],
      "text/plain": [
       "              Year  Bus and Motor Coach Traffic  Total four wheeled Traffic\n",
       "count     6.000000                     6.000000                    6.000000\n",
       "mean   2018.500000                   333.166667                43892.333333\n",
       "std       1.870829                    57.031278                 4778.960375\n",
       "min    2016.000000                   260.000000                35435.000000\n",
       "25%    2017.250000                   285.500000                42218.750000\n",
       "50%    2018.500000                   345.000000                46279.000000\n",
       "75%    2019.750000                   379.750000                46676.250000\n",
       "max    2021.000000                   392.000000                47687.000000"
      ]
     },
     "execution_count": 60,
     "metadata": {},
     "output_type": "execute_result"
    }
   ],
   "source": [
    "df_bus_ireland.describe()"
   ]
  },
  {
   "cell_type": "code",
   "execution_count": null,
   "id": "72cfb03c",
   "metadata": {},
   "outputs": [],
   "source": []
  }
 ],
 "metadata": {
  "kernelspec": {
   "display_name": "Python 3 (ipykernel)",
   "language": "python",
   "name": "python3"
  },
  "language_info": {
   "codemirror_mode": {
    "name": "ipython",
    "version": 3
   },
   "file_extension": ".py",
   "mimetype": "text/x-python",
   "name": "python",
   "nbconvert_exporter": "python",
   "pygments_lexer": "ipython3",
   "version": "3.9.12"
  }
 },
 "nbformat": 4,
 "nbformat_minor": 5
}
